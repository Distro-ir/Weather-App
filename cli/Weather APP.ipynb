{
 "cells": [
  {
   "cell_type": "code",
   "execution_count": 2,
   "id": "50801c70",
   "metadata": {},
   "outputs": [],
   "source": [
    "import requests\n",
    "# Import required libraries"
   ]
  },
  {
   "cell_type": "code",
   "execution_count": 3,
   "id": "a600017f",
   "metadata": {},
   "outputs": [
    {
     "name": "stdout",
     "output_type": "stream",
     "text": [
      "Please Enter name city for weather check: [teh]ran ::> teh\n"
     ]
    },
    {
     "data": {
      "text/plain": [
       "'[{\"title\":\"Tehrān\",\"location_type\":\"City\",\"woeid\":2251945,\"latt_long\":\"35.671940,51.424438\"}]'"
      ]
     },
     "execution_count": 3,
     "metadata": {},
     "output_type": "execute_result"
    }
   ],
   "source": [
    "# Get the names of cities (abbreviation only the first three letters must be entered) for example: London, lon.\n",
    "nameCity = input(\"Please Enter name city for weather check: [teh]ran ::> \")\n",
    "URLForFindCity = f\"https://www.metaweather.com/api/location/search/?query={nameCity}\"\n",
    "'''\n",
    "URL required to send requests to API service provider \"www.metaweather.com\"\n",
    "Note: This request is in the source code. And in the continuation of the program, \n",
    "to send the ID of each city and get information, it will definitely send more requests\n",
    "'''\n",
    "response = requests.get(URLForFindCity)\n",
    "data = response.text\n",
    "convert = str(data)\n",
    "convert"
   ]
  },
  {
   "cell_type": "code",
   "execution_count": 4,
   "id": "3a4489a3",
   "metadata": {},
   "outputs": [],
   "source": [
    "# This part of the program becomes very simple if we use \"regex\" :)\n",
    "# Remove annoying characters from the list\n",
    "dataWithout = convert.replace(\"[{\" , '')\n",
    "newData = dataWithout.replace(\"}]\",'')\n",
    "var = newData.replace(\"}\", '')\n",
    "var2 = var.replace(\"{\", '')\n",
    "# Use the replace method\n",
    "# As you know the properties of strings, they are immutable."
   ]
  },
  {
   "cell_type": "code",
   "execution_count": 5,
   "id": "79f4ccb6",
   "metadata": {
    "scrolled": true
   },
   "outputs": [],
   "source": [
    "# Convert string to list by split method\n",
    "heng = var2.split(',')"
   ]
  },
  {
   "cell_type": "code",
   "execution_count": 6,
   "id": "2492821a",
   "metadata": {},
   "outputs": [],
   "source": [
    "IDAndProcContDict = dict()\n",
    "# Convert data to a dictionary for easy access to arguments\n",
    "for init in heng:\n",
    "    # Each content becomes a new temporary list to build the dictionary\n",
    "    splitWith = init.split(\":\")\n",
    "    if len(splitWith) == 1:\n",
    "        continue\n",
    "    else:\n",
    "        IDAndProcContDict[splitWith[0]] = splitWith[1]"
   ]
  },
  {
   "cell_type": "code",
   "execution_count": 7,
   "id": "e6bfdd54",
   "metadata": {},
   "outputs": [],
   "source": [
    "# woeid ID\n",
    "# Where On Earth ID\n",
    "try:\n",
    "    Woeid = int(IDAndProcContDict['\"woeid\"'])\n",
    "except:\n",
    "    print(\"city Not Found\")"
   ]
  },
  {
   "cell_type": "code",
   "execution_count": 8,
   "id": "a157942e",
   "metadata": {},
   "outputs": [],
   "source": [
    "#Send a request and receive Weather information about this city\n",
    "URLWeather = f\"https://www.metaweather.com/api/location/{Woeid}\"\n",
    "responseFrom = requests.get(URLWeather)\n",
    "responseData = str(responseFrom.text)"
   ]
  },
  {
   "cell_type": "code",
   "execution_count": 9,
   "id": "fb22e243",
   "metadata": {},
   "outputs": [
    {
     "ename": "NameError",
     "evalue": "name 'dataWeather' is not defined",
     "output_type": "error",
     "traceback": [
      "\u001b[0;31m-------------------------------------------------------------------------\u001b[0m",
      "\u001b[0;31mNameError\u001b[0m                               Traceback (most recent call last)",
      "\u001b[0;32m<ipython-input-9-98da815caa23>\u001b[0m in \u001b[0;36m<module>\u001b[0;34m\u001b[0m\n\u001b[1;32m      2\u001b[0m \u001b[0mdataweather\u001b[0m \u001b[0;34m=\u001b[0m \u001b[0mresponseData\u001b[0m\u001b[0;34m.\u001b[0m\u001b[0msplit\u001b[0m\u001b[0;34m(\u001b[0m\u001b[0;34m\",\"\u001b[0m\u001b[0;34m)\u001b[0m\u001b[0;34m\u001b[0m\u001b[0;34m\u001b[0m\u001b[0m\n\u001b[1;32m      3\u001b[0m \u001b[0mdataTemp\u001b[0m \u001b[0;34m=\u001b[0m \u001b[0mdict\u001b[0m\u001b[0;34m(\u001b[0m\u001b[0;34m)\u001b[0m\u001b[0;34m\u001b[0m\u001b[0;34m\u001b[0m\u001b[0m\n\u001b[0;32m----> 4\u001b[0;31m \u001b[0;32mfor\u001b[0m \u001b[0mi\u001b[0m \u001b[0;32min\u001b[0m \u001b[0mrange\u001b[0m\u001b[0;34m(\u001b[0m\u001b[0;36m0\u001b[0m \u001b[0;34m,\u001b[0m \u001b[0mlen\u001b[0m\u001b[0;34m(\u001b[0m\u001b[0mdataWeather\u001b[0m\u001b[0;34m)\u001b[0m\u001b[0;34m)\u001b[0m\u001b[0;34m:\u001b[0m\u001b[0;34m\u001b[0m\u001b[0;34m\u001b[0m\u001b[0m\n\u001b[0m\u001b[1;32m      5\u001b[0m     \u001b[0msplity\u001b[0m \u001b[0;34m=\u001b[0m \u001b[0mdataweather\u001b[0m\u001b[0;34m[\u001b[0m\u001b[0mi\u001b[0m\u001b[0;34m]\u001b[0m\u001b[0;34m.\u001b[0m\u001b[0msplit\u001b[0m\u001b[0;34m(\u001b[0m\u001b[0;34m\":\"\u001b[0m\u001b[0;34m)\u001b[0m\u001b[0;34m\u001b[0m\u001b[0;34m\u001b[0m\u001b[0m\n\u001b[1;32m      6\u001b[0m     \u001b[0;32mif\u001b[0m \u001b[0mlen\u001b[0m\u001b[0;34m(\u001b[0m\u001b[0msplity\u001b[0m\u001b[0;34m)\u001b[0m \u001b[0;34m<=\u001b[0m \u001b[0;36m1\u001b[0m\u001b[0;34m:\u001b[0m\u001b[0;34m\u001b[0m\u001b[0;34m\u001b[0m\u001b[0m\n",
      "\u001b[0;31mNameError\u001b[0m: name 'dataWeather' is not defined"
     ]
    }
   ],
   "source": [
    "#Converting Response to Accessible Data Tip is easier with Json :)\n",
    "dataweather = responseData.split(\",\")\n",
    "dataTemp = dict()\n",
    "for i in range(0 , len(dataWeather)):\n",
    "    splity = dataweather[i].split(\":\")\n",
    "    if len(splity) <= 1:\n",
    "        continue\n",
    "    dataTemp[splity[0]] = splity[1]"
   ]
  },
  {
   "cell_type": "code",
   "execution_count": null,
   "id": "a712351c",
   "metadata": {},
   "outputs": [],
   "source": [
    "# output Weather Data\n",
    "y = dataTemp['\"min_temp\"']\n",
    "s = dataTemp['\"wind_speed\"']\n",
    "t = dataTemp['\"weather_state_name\"']\n",
    "dataFinal = f\"Minimum Temperatur : {y} C - wind speed : {s} KNOT\"\n",
    "print(dataFinal)"
   ]
  },
  {
   "cell_type": "code",
   "execution_count": 10,
   "id": "0923e091",
   "metadata": {},
   "outputs": [
    {
     "ename": "KeyError",
     "evalue": "'\"timezone\"'",
     "output_type": "error",
     "traceback": [
      "\u001b[0;31m-------------------------------------------------------------------------\u001b[0m",
      "\u001b[0;31mKeyError\u001b[0m                                Traceback (most recent call last)",
      "\u001b[0;32m<ipython-input-10-a82c32bf596e>\u001b[0m in \u001b[0;36m<module>\u001b[0;34m\u001b[0m\n\u001b[0;32m----> 1\u001b[0;31m \u001b[0mdataTemp\u001b[0m\u001b[0;34m[\u001b[0m\u001b[0;34m'\"timezone\"'\u001b[0m\u001b[0;34m]\u001b[0m\u001b[0;34m\u001b[0m\u001b[0;34m\u001b[0m\u001b[0m\n\u001b[0m",
      "\u001b[0;31mKeyError\u001b[0m: '\"timezone\"'"
     ]
    }
   ],
   "source": [
    "dataTemp['\"timezone\"']"
   ]
  },
  {
   "cell_type": "code",
   "execution_count": null,
   "id": "ef26abb9",
   "metadata": {},
   "outputs": [],
   "source": []
  },
  {
   "cell_type": "code",
   "execution_count": null,
   "id": "122be9bc",
   "metadata": {},
   "outputs": [],
   "source": []
  }
 ],
 "metadata": {
  "kernelspec": {
   "display_name": "Python 3",
   "language": "python",
   "name": "python3"
  },
  "language_info": {
   "codemirror_mode": {
    "name": "ipython",
    "version": 3
   },
   "file_extension": ".py",
   "mimetype": "text/x-python",
   "name": "python",
   "nbconvert_exporter": "python",
   "pygments_lexer": "ipython3",
   "version": "3.8.5"
  }
 },
 "nbformat": 4,
 "nbformat_minor": 5
}
