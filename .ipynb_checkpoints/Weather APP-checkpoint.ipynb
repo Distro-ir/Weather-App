{
 "cells": [
  {
   "cell_type": "code",
   "execution_count": 92,
   "id": "50801c70",
   "metadata": {},
   "outputs": [],
   "source": [
    "import requests\n",
    "# Import required libraries"
   ]
  },
  {
   "cell_type": "code",
   "execution_count": 104,
   "id": "a600017f",
   "metadata": {},
   "outputs": [
    {
     "name": "stdout",
     "output_type": "stream",
     "text": [
      "Please Enter name city for weather check: [teh]ran ::> teh\n"
     ]
    },
    {
     "data": {
      "text/plain": [
       "'[{\"title\":\"Tehrān\",\"location_type\":\"City\",\"woeid\":2251945,\"latt_long\":\"35.671940,51.424438\"}]'"
      ]
     },
     "execution_count": 104,
     "metadata": {},
     "output_type": "execute_result"
    }
   ],
   "source": [
    "# Get the names of cities (abbreviation only the first three letters must be entered) for example: London, lon.\n",
    "nameCity = input(\"Please Enter name city for weather check: [teh]ran ::> \")\n",
    "URLForFindCity = f\"https://www.metaweather.com/api/location/search/?query={nameCity}\"\n",
    "'''\n",
    "URL required to send requests to API service provider \"www.metaweather.com\"\n",
    "Note: This request is in the source code. And in the continuation of the program, \n",
    "to send the ID of each city and get information, it will definitely send more requests\n",
    "'''\n",
    "response = requests.get(URLForFindCity)\n",
    "data = response.text\n",
    "convert = str(data)\n",
    "convert"
   ]
  },
  {
   "cell_type": "code",
   "execution_count": 105,
   "id": "3a4489a3",
   "metadata": {},
   "outputs": [],
   "source": [
    "# This part of the program becomes very simple if we use \"regex\" :)\n",
    "# Remove annoying characters from the list\n",
    "dataWithout = convert.replace(\"[{\" , '')\n",
    "newData = dataWithout.replace(\"}]\",'')\n",
    "var = newData.replace(\"}\", '')\n",
    "var2 = var.replace(\"{\", '')\n",
    "# Use the replace method\n",
    "# As you know the properties of strings, they are immutable."
   ]
  },
  {
   "cell_type": "code",
   "execution_count": 106,
   "id": "79f4ccb6",
   "metadata": {
    "scrolled": true
   },
   "outputs": [],
   "source": [
    "# Convert string to list by split method\n",
    "heng = var2.split(',')"
   ]
  },
  {
   "cell_type": "code",
   "execution_count": 107,
   "id": "2492821a",
   "metadata": {},
   "outputs": [],
   "source": [
    "IDAndProcContDict = dict()\n",
    "# Convert data to a dictionary for easy access to arguments\n",
    "for init in heng:\n",
    "    # Each content becomes a new temporary list to build the dictionary\n",
    "    splitWith = init.split(\":\")\n",
    "    if len(splitWith) == 1:\n",
    "        continue\n",
    "    else:\n",
    "        IDAndProcContDict[splitWith[0]] = splitWith[1]"
   ]
  },
  {
   "cell_type": "code",
   "execution_count": 108,
   "id": "e6bfdd54",
   "metadata": {},
   "outputs": [],
   "source": [
    "# woeid ID\n",
    "# Where On Earth ID\n",
    "try:\n",
    "    Woeid = int(IDAndProcContDict['\"woeid\"'])\n",
    "except:\n",
    "    print(\"city Not Found\")"
   ]
  },
  {
   "cell_type": "code",
   "execution_count": 109,
   "id": "a157942e",
   "metadata": {},
   "outputs": [],
   "source": [
    "#Send a request and receive Weather information about this city\n",
    "URLWeather = f\"https://www.metaweather.com/api/location/{Woeid}\"\n",
    "responseFrom = requests.get(URLWeather)\n",
    "responseData = str(responseFrom.text)"
   ]
  },
  {
   "cell_type": "code",
   "execution_count": 110,
   "id": "fb22e243",
   "metadata": {},
   "outputs": [],
   "source": [
    "#Converting Response to Accessible Data Tip is easier with Json :)\n",
    "dataweather = responseData.split(\",\")\n",
    "dataTemp = dict()\n",
    "for i in range(0 , len(dataWeather)):\n",
    "    splity = dataweather[i].split(\":\")\n",
    "    if len(splity) <= 1:\n",
    "        continue\n",
    "    dataTemp[splity[0]] = splity[1]"
   ]
  },
  {
   "cell_type": "code",
   "execution_count": 111,
   "id": "a712351c",
   "metadata": {},
   "outputs": [
    {
     "name": "stdout",
     "output_type": "stream",
     "text": [
      "Minimum Temperatur : 19.6 C - wind speed : 5.35 KNOT\n"
     ]
    }
   ],
   "source": [
    "# output Weather Data\n",
    "y = dataTemp['\"min_temp\"']\n",
    "s = dataTemp['\"wind_speed\"']\n",
    "dataFinal = f\"Minimum Temperatur : {y} C - wind speed : {s} KNOT\"\n",
    "print(dataFinal)"
   ]
  },
  {
   "cell_type": "code",
   "execution_count": 112,
   "id": "0923e091",
   "metadata": {},
   "outputs": [
    {
     "data": {
      "text/plain": [
       "{'{\"consolidated_weather\"': '[{\"id\"',\n",
       " '\"weather_state_name\"': '\"Light Cloud\"',\n",
       " '\"weather_state_abbr\"': '\"lc\"',\n",
       " '\"wind_direction_compass\"': '\"NE\"',\n",
       " '\"created\"': '\"2021-05-08T10',\n",
       " '\"applicable_date\"': '\"2021-05-13\"',\n",
       " '\"min_temp\"': '19.6',\n",
       " '\"max_temp\"': '31.19',\n",
       " '\"the_temp\"': 'null',\n",
       " '\"wind_speed\"': '5.35',\n",
       " '\"wind_direction\"': '56.0',\n",
       " '\"air_pressure\"': 'null',\n",
       " '\"humidity\"': '38',\n",
       " '\"visibility\"': '9.999726596675416',\n",
       " '\"predictability\"': '70}]',\n",
       " '{\"id\"': '6445903243116544',\n",
       " '\"time\"': '\"2021-05-08T16',\n",
       " '\"sun_rise\"': '\"2021-05-08T06',\n",
       " '\"sun_set\"': '\"2021-05-08T19',\n",
       " '\"timezone_name\"': '\"LMT\"',\n",
       " '\"parent\"': '{\"title\"',\n",
       " '\"location_type\"': '\"City\"',\n",
       " '\"woeid\"': '2251945',\n",
       " '\"latt_long\"': '\"35.671940',\n",
       " '\"sources\"': '[{\"title\"',\n",
       " '\"slug\"': '\"world-weather-online\"',\n",
       " '\"url\"': '\"http',\n",
       " '\"crawl_rate\"': '360}]',\n",
       " '{\"title\"': '\"World Weather Online\"',\n",
       " '\"title\"': '\"TehrÄ�n\"',\n",
       " '\"timezone\"': '\"Asia/Tehran\"}'}"
      ]
     },
     "execution_count": 112,
     "metadata": {},
     "output_type": "execute_result"
    }
   ],
   "source": [
    "dataTemp"
   ]
  },
  {
   "cell_type": "code",
   "execution_count": null,
   "id": "ef26abb9",
   "metadata": {},
   "outputs": [],
   "source": []
  }
 ],
 "metadata": {
  "kernelspec": {
   "display_name": "Python 3",
   "language": "python",
   "name": "python3"
  },
  "language_info": {
   "codemirror_mode": {
    "name": "ipython",
    "version": 3
   },
   "file_extension": ".py",
   "mimetype": "text/x-python",
   "name": "python",
   "nbconvert_exporter": "python",
   "pygments_lexer": "ipython3",
   "version": "3.8.5"
  }
 },
 "nbformat": 4,
 "nbformat_minor": 5
}
